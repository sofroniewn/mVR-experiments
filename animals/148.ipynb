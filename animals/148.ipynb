{
 "cells": [
  {
   "cell_type": "code",
   "execution_count": 2,
   "metadata": {
    "collapsed": false
   },
   "outputs": [
    {
     "name": "stderr",
     "output_type": "stream",
     "text": [
      "//anaconda/lib/python2.7/site-packages/IPython/html.py:14: ShimWarning: The `IPython.html` package has been deprecated. You should import from `notebook` instead. `IPython.html.widgets` has moved to `ipywidgets`.\n",
      "  \"`IPython.html.widgets` has moved to `ipywidgets`.\", ShimWarning)\n"
     ]
    }
   ],
   "source": [
    "import mvranalysis as mvr\n",
    "import os\n",
    "import numpy as np\n",
    "import pandas as pd\n",
    "import scipy.io as sio\n",
    "from glob import glob\n",
    "import json\n",
    "import seaborn as sns\n",
    "sns.set_style('white')\n",
    "\n",
    "import matplotlib.pyplot as plt\n",
    "from matplotlib.colors import ListedColormap\n",
    "from colorsys import hsv_to_rgb, rgb_to_hsv\n",
    "%matplotlib inline"
   ]
  },
  {
   "cell_type": "markdown",
   "metadata": {},
   "source": [
    "# Load sessions"
   ]
  },
  {
   "cell_type": "code",
   "execution_count": 3,
   "metadata": {
    "collapsed": true
   },
   "outputs": [],
   "source": [
    "ID = 148\n",
    "path = '/Volumes/freeman/Nick/mVR/sessions'\n",
    "\n",
    "logpath = '/Users/MJAY-MAC/Desktop/GITHUB/mVR-meta/mvr_behavior_log.xlsx'\n",
    "log = pd.read_excel(logpath)\n",
    "\n"
   ]
  },
  {
   "cell_type": "markdown",
   "metadata": {},
   "source": [
    "148 run on antibiasR, R is correct, L is incorrect"
   ]
  },
  {
   "cell_type": "code",
   "execution_count": 4,
   "metadata": {
    "collapsed": false
   },
   "outputs": [
    {
     "name": "stdout",
     "output_type": "stream",
     "text": [
      "    AnimalNum  SessionNum SessionType\n",
      "13        148          56    unbiased\n",
      "14        148          60    unbiased\n",
      "15        148          71   antibiasR\n",
      "16        148          75   antibiasR\n",
      "17        148          79   antibiasR\n",
      "18        148          83    unbiased\n",
      "19        148          86    unbiased\n"
     ]
    }
   ],
   "source": [
    "sessions = log[(log.AnimalNum == 148)]\n",
    "unbiased = sessions[(sessions.SessionType == 'unbiased')]\n",
    "antibiasR = sessions[(sessions.SessionType == 'antibiasR')]\n",
    "sessions = (pd.concat([unbiased,antibiasR])).sort()\n",
    "session_vals= [int(x) for x in sessions.SessionNum]\n",
    "print sessions"
   ]
  },
  {
   "cell_type": "code",
   "execution_count": 5,
   "metadata": {
    "collapsed": false
   },
   "outputs": [],
   "source": [
    "summary = [pd.read_csv(path + '/0000' + str(x) + '/summary/trial_summary' + str(x)+ '.csv') for x in session_vals]"
   ]
  },
  {
   "cell_type": "code",
   "execution_count": 6,
   "metadata": {
    "collapsed": false
   },
   "outputs": [],
   "source": [
    "mean_trials = np.mean([(len(x))for x in summary])"
   ]
  },
  {
   "cell_type": "code",
   "execution_count": 7,
   "metadata": {
    "collapsed": false
   },
   "outputs": [
    {
     "data": {
      "text/plain": [
       "64"
      ]
     },
     "execution_count": 7,
     "metadata": {},
     "output_type": "execute_result"
    }
   ],
   "source": [
    "unbiased_idx = [0,1,5,6]\n",
    "antibias_idx = [2,3,4]\n",
    "len(summary[0])"
   ]
  },
  {
   "cell_type": "code",
   "execution_count": 8,
   "metadata": {
    "collapsed": false
   },
   "outputs": [],
   "source": [
    "summary = [mvr.correctL(x) for x in summary]"
   ]
  },
  {
   "cell_type": "markdown",
   "metadata": {},
   "source": [
    "# Create dot plot"
   ]
  },
  {
   "cell_type": "code",
   "execution_count": 45,
   "metadata": {
    "collapsed": false
   },
   "outputs": [
    {
     "data": {
      "image/png": "[encoded data removed]",
      "text/plain": [
       "<matplotlib.figure.Figure at 0x10c578bd0>"
      ]
     },
     "metadata": {},
     "output_type": "display_data"
    }
   ],
   "source": [
    "plt.figure(figsize = [20,4])\n",
    "\n",
    "dot_array = []\n",
    "len_array = []\n",
    "for a in range(len(summary)):\n",
    "    dot_array += list(summary[a].Correct)\n",
    "    len_array.append(len(summary[a]))\n",
    "    \n",
    "len_array = list(np.cumsum(len_array))\n",
    "\n",
    "plt.plot(dot_array,'.',color=[0.87,0.53,0.67], markersize=30)\n",
    "plt.ylim(-0.5,1.5)\n",
    "plt.xlim(0,max(len_array))\n",
    "#[plt.axvline(x =a, color='r') for a in len_array]\n",
    "plt.axvspan(len_array[1],len_array[4], facecolor = [0.7,0.8,1.0], alpha = 0.3)\n",
    "plt.xlabel('Cumulative Trial #',fontsize = 18.0)\n",
    "plt.yticks([0,1],['Incorrect','Correct'], fontsize = 24.0)\n",
    "plt.xticks(fontsize=24.0)\n",
    "plt.title('Multi-Session Performance - Animal 148', fontsize = 18.0)\n",
    "sns.despine()\n",
    "\n",
    "avgs = []\n",
    "binsize = 15\n",
    "kernel = np.ones(binsize,)/float(binsize)\n",
    "avgs = np.convolve(dot_array,kernel, 'same')\n",
    "plt.plot(avgs, color=[0.75,0.11,0.37],linewidth=7) \n",
    "plt.savefig('148plot.eps', format='eps')"
   ]
  },
  {
   "cell_type": "code",
   "execution_count": 10,
   "metadata": {
    "collapsed": false
   },
   "outputs": [
    {
     "name": "stdout",
     "output_type": "stream",
     "text": [
      "621 621\n"
     ]
    },
    {
     "data": {
      "image/png": "[encoded data removed]",
      "text/plain": [
       "<matplotlib.figure.Figure at 0x109678790>"
      ]
     },
     "metadata": {},
     "output_type": "display_data"
    },
    {
     "data": {
      "image/png": "[encoded data removed]",
      "text/plain": [
       "<matplotlib.figure.Figure at 0x109c71310>"
      ]
     },
     "metadata": {},
     "output_type": "display_data"
    }
   ],
   "source": [
    "#Moving Average-Main Behavior\n",
    "plt.figure(figsize = [20,5])\n",
    "avgs = []\n",
    "binsize = 15\n",
    "kernel = np.ones(binsize,)/float(binsize)\n",
    "avgs = np.convolve(dot_array,kernel, 'same')\n",
    "\n",
    "print len(avgs), len(dot_array)\n",
    "plt.plot(avgs) \n",
    "plt.ylim(-0.5,1.5)\n",
    "plt.xlim(0,max(len_array))\n",
    "[plt.axvline(x =a, color='r') for a in len_array]\n",
    "plt.axvspan(len_array[1],len_array[4], facecolor = 'y', alpha = 0.3)\n",
    "plt.xlabel('Cumulative Trial #')\n",
    "\n",
    "plt.figure(2)\n",
    "plt.plot(avgs) \n",
    "plt.ylim(-0.5,1.5)\n",
    "plt.xlim(len_array[0],len_array[2])\n",
    "plt.axvspan(len_array[1],len_array[4], facecolor = 'y', alpha = 0.3)\n",
    "\n",
    "zoom = avgs[len_array[1]-40:len_array[1]+40]\n",
    "zoom  = pd.Series(zoom)\n",
    "zoom.to_csv(path + \"/rollingavg148.csv\")\n"
   ]
  },
  {
   "cell_type": "code",
   "execution_count": null,
   "metadata": {
    "collapsed": false
   },
   "outputs": [],
   "source": [
    "#Plot Unbiased Correct (R correct, L incorrect)\n",
    "c = [] #correct/right\n",
    "for j in unbiased_idx:\n",
    "    correct = list(summary[j].Correct).count(True)\n",
    "    perc_correct = correct/float(len(summary[j]))\n",
    "    #print perc_correct\n",
    "    c.append(perc_correct)\n",
    "\n",
    "\n",
    "w = [1-x for x in c]\n",
    "#wrong/left side\n",
    "\n",
    "labels = ('Day 1', 'Day 2', 'Day 3', 'Day 4')  #Unbiased days\n",
    "y_pos = np.arange(len(w))\n",
    "\n",
    "fig, ax = plt.subplots()\n",
    "\n",
    "bar_width = 0.35\n",
    "opacity = 0.8\n",
    " \n",
    "rects1 = plt.bar(y_pos, c, bar_width,\n",
    "                 alpha=opacity,\n",
    "                 color='g',\n",
    "                 label='Correct (Right)')\n",
    " \n",
    "rects2 = plt.bar(y_pos + bar_width, w, bar_width,\n",
    "                 alpha=opacity,\n",
    "                 color='r',\n",
    "                 label='Incorrect (Left)')\n",
    "\n",
    "plt.legend()\n",
    "plt.xticks(y_pos+bar_width, labels)\n",
    "plt.xlabel('Before <----- Unbiased Sessions -----> After')\n",
    "plt.ylabel('Percent Correct')\n",
    "plt.title('Unbiased Maze Choices')\n",
    "plt.show()\n",
    "plt.savefig(path+'/unbiased148')"
   ]
  },
  {
   "cell_type": "markdown",
   "metadata": {},
   "source": [
    "# Plot Animal performance"
   ]
  },
  {
   "cell_type": "code",
   "execution_count": null,
   "metadata": {
    "collapsed": false
   },
   "outputs": [],
   "source": [
    "#Plot Unbiased Correct (R correct, L incorrect)\n",
    "c = [] #correct/right\n",
    "for j in range(7):\n",
    "    \n",
    "    correct = list(summary[j].Correct).count(True)\n",
    "    perc_correct = correct/float(len(summary[j]))\n",
    "    #print perc_correct\n",
    "    c.append(perc_correct)\n",
    "\n",
    "\n",
    "w = [1-x for x in c]\n",
    "#wrong/left side\n",
    "\n",
    "labels = ['UB1', 'UB2', 'ABR1', 'ABR2', 'ABR3', 'UB3', 'UB4']  #All days\n",
    "y_pos = np.arange(len(w))\n",
    "\n",
    "fig, ax = plt.subplots()\n",
    "\n",
    "bar_width = 0.35\n",
    "opacity = 0.8\n",
    " \n",
    "rects1 = plt.bar(y_pos, c, bar_width,\n",
    "                 alpha=opacity,\n",
    "                 color='g',\n",
    "                 label='Correct (Right)')\n",
    " \n",
    "rects2 = plt.bar(y_pos + bar_width, w, bar_width,\n",
    "                 alpha=opacity,\n",
    "                 color='r',\n",
    "                 label='Incorrect (Left)')\n",
    "\n",
    "plt.legend(loc='best')\n",
    "plt.xticks(y_pos+bar_width, labels)\n",
    "plt.xlabel('All Sessions')\n",
    "plt.ylabel('Percent Correct')\n",
    "plt.title('All Maze Choices')\n",
    "plt.axvspan(1.9,4.8, facecolor = 'y', alpha = 0.3)\n",
    "plt.show()\n",
    "\n",
    "#plt.savefig(path+'/allsessions148.png')\n",
    "\n",
    "mu_perc_corrUB_before = np.mean(c[0:2])\n",
    "mu_perc_corrAB = np.mean(c[2:5])\n",
    "mu_perc_corrUB_after = np.mean(c[5:7])\n",
    "\n",
    "print mu_perc_corrUB_before, mu_perc_corrAB, mu_perc_corrUB_after"
   ]
  },
  {
   "cell_type": "code",
   "execution_count": null,
   "metadata": {
    "collapsed": false
   },
   "outputs": [],
   "source": []
  },
  {
   "cell_type": "markdown",
   "metadata": {},
   "source": [
    "# Time stats"
   ]
  },
  {
   "cell_type": "code",
   "execution_count": null,
   "metadata": {
    "collapsed": false
   },
   "outputs": [],
   "source": [
    "#Mean Time per trial\n",
    "mu_time = []\n",
    "std_time = []\n",
    "\n",
    "[mu_time.append(x.time.mean()) for x in summary]\n",
    "[std_time.append(x.time.std()) for x in summary]\n",
    "print mu_time\n",
    "\n",
    "plt.bar(range(0,len(mu_time)), mu_time, align = \"center\", yerr = std_time)\n",
    "labels = ['UB1', 'UB2', 'ABR1', 'ABR2', 'ABR3', 'UB3', 'UB4']\n",
    "ypos = np.arange(len(mu_time))\n",
    "plt.xticks(ypos,labels)\n",
    "plt.xlabel('Session/Day')\n",
    "plt.ylabel('Avg Time per Trial (s)')\n",
    "\n",
    "plt.figure(2)\n",
    "t,t1= [],[]\n",
    "[t.append(x.time) for x in summary]\n",
    "\n",
    "plt.hist(t,8, facecolor = 'g')\n",
    "plt.title('Time per Trial')\n",
    "plt.xlabel('Time (s)')\n",
    "\n",
    "            "
   ]
  },
  {
   "cell_type": "code",
   "execution_count": null,
   "metadata": {
    "collapsed": false
   },
   "outputs": [],
   "source": [
    "mu_choice = []\n",
    "std_choice = []\n",
    "\n",
    "[mu_choice.append(x.timeChoice.mean()) for x in summary]\n",
    "[std_choice.append(x.timeChoice.std()) for x in summary]\n",
    "print mu_choice\n",
    "print std_choice\n",
    "\n",
    "plt.bar(range(0,len(mu_choice)), mu_choice, align = \"center\", yerr = std_choice)\n",
    "labels = ['UB1', 'UB2', 'ABR1', 'ABR2', 'ABR3', 'UB3', 'UB4']\n",
    "ypos = np.arange(len(mu_time))\n",
    "plt.xticks(ypos,labels)\n",
    "plt.xlabel('Session/Day')\n",
    "plt.ylabel('Avg Time at Choice Point(s)')\n",
    "\n",
    "plt.figure(2)\n",
    "choice = []\n",
    "[choice.append(x.timeChoice) for x in summary]\n",
    "\n",
    "plt.hist(choice,8, facecolor = 'g')\n",
    "plt.title('Time per Choice Point')\n",
    "plt.xlabel('Time (s)')\n",
    "            "
   ]
  },
  {
   "cell_type": "code",
   "execution_count": null,
   "metadata": {
    "collapsed": false
   },
   "outputs": [],
   "source": [
    "#Plot Choice Time acros all sessions\n",
    "plt.figure(figsize = [20,5])\n",
    "\n",
    "tchoice_array = []\n",
    "len_array = []\n",
    "for a in range(len(summary)):\n",
    "    tchoice_array += list(summary[a].timeChoice)\n",
    "    len_array.append(len(summary[a]))\n",
    "    \n",
    "len_array = list(np.cumsum(len_array))\n",
    "\n",
    "plt.plot(tchoice_array,'-')\n",
    "plt.xlim(0,max(len_array))\n",
    "[plt.axvline(x =a, color='r') for a in len_array]\n",
    "plt.axvspan(len_array[1],len_array[4], facecolor = 'y', alpha = 0.3)\n",
    "plt.xlabel('Cumulative Trial #')\n",
    "plt.ylabel('Time(s)')\n",
    "#plt.yticks([0,1],['Incorrect','Correct'])\n",
    "plt.title('Multi-Session Time at Choice Point')"
   ]
  },
  {
   "cell_type": "code",
   "execution_count": null,
   "metadata": {
    "collapsed": false
   },
   "outputs": [],
   "source": [
    "#Plot Trial Time acros all sessions\n",
    "plt.figure(figsize = [20,5])\n",
    "\n",
    "time_array = []\n",
    "len_array = []\n",
    "for a in range(len(summary)):\n",
    "    time_array += list(summary[a].time)\n",
    "    len_array.append(len(summary[a]))\n",
    "    \n",
    "len_array = list(np.cumsum(len_array))\n",
    "\n",
    "plt.plot(time_array,'-')\n",
    "plt.xlim(0,max(len_array))\n",
    "[plt.axvline(x =a, color='r') for a in len_array]\n",
    "plt.axvspan(len_array[1],len_array[4], facecolor = 'y', alpha = 0.3)\n",
    "plt.xlabel('Cumulative Trial #')\n",
    "plt.ylabel('Time(s)')\n",
    "\n",
    "plt.title('Multi-Session Time per Trial')"
   ]
  },
  {
   "cell_type": "code",
   "execution_count": null,
   "metadata": {
    "collapsed": false
   },
   "outputs": [],
   "source": [
    "#Subplot\n",
    "plt.figure(figsize = [20,5])\n",
    "plt.subplot(211)\n",
    "plt.plot(time_array,'-')\n",
    "plt.xlim(0,max(len_array))\n",
    "plt.axvspan(len_array[1],len_array[4], facecolor = 'y', alpha = 0.3)\n",
    "[plt.axvline(x =a, color='r') for a in len_array]\n",
    "#plt.xlabel('Cumulative Trial #')\n",
    "plt.ylabel('Time(s)')\n",
    "plt.title('Multi-Session Time per Trial')\n",
    "\n",
    "\n",
    "plt.subplot(212)\n",
    "plt.plot(tchoice_array,'-')\n",
    "plt.xlim(0,max(len_array))\n",
    "[plt.axvline(x =a, color='r') for a in len_array]\n",
    "plt.axvspan(len_array[1],len_array[4], facecolor = 'y', alpha = 0.3)\n",
    "plt.xlabel('Cumulative Trial #')\n",
    "plt.ylabel('Time(s)')\n",
    "plt.title('Multi-Session Time at Choice Point')\n"
   ]
  },
  {
   "cell_type": "code",
   "execution_count": null,
   "metadata": {
    "collapsed": false
   },
   "outputs": [],
   "source": [
    "completion  = []\n",
    "for b in range(len(summary)):\n",
    "    completion += list(summary[b].Completed)\n",
    "    \n",
    "plt.figure(figsize = [20,5])\n",
    "plt.plot(completion,'.')\n",
    "plt.ylim(-0.5,1.5)\n",
    "plt.xlim(0,max(len_array))\n",
    "[plt.axvline(x =a, color='r') for a in len_array]\n",
    "plt.axvspan(len_array[1],len_array[4], facecolor = 'y', alpha = 0.3)\n",
    "plt.xlabel('Cumulative Trial #')\n",
    "plt.ylabel('Time(s)')\n",
    "plt.title('Incompletion')\n",
    "num_incomplete = completion.count(0)\n",
    "print num_incomplete\n"
   ]
  },
  {
   "cell_type": "code",
   "execution_count": null,
   "metadata": {
    "collapsed": false
   },
   "outputs": [],
   "source": [
    "num_deadend = 0\n",
    "for b in antibias_idx:\n",
    "    num_deadend += list(summary[b].deadEnd).count(1)\n",
    "    \n",
    "print num_deadend"
   ]
  },
  {
   "cell_type": "code",
   "execution_count": null,
   "metadata": {
    "collapsed": false
   },
   "outputs": [],
   "source": [
    "len(summary)"
   ]
  },
  {
   "cell_type": "code",
   "execution_count": null,
   "metadata": {
    "collapsed": false
   },
   "outputs": [],
   "source": [
    "for i in antibias_idx:\n",
    "    plt.hist(summary[i].timeChoice[~np.isnan(summary[i].timeChoice)],50)\n",
    "    plt.legend(['Antibias Day 1', 'Antibias Day 2', 'Antibias Day 3'])\n",
    "plt.title('Antibias Choicepoint Time Distribution') \n",
    "plt.xlabel('Time (s)')\n",
    "plt.ylabel('Number of Trials')\n",
    "plt.show()  \n",
    "\n",
    "plt.figure()\n",
    "for i in antibias_idx:\n",
    "    plt.hist(summary[i].initChoiceTime[~np.isnan(summary[i].initChoiceTime)],50)\n",
    "    plt.legend(['Antibias Day 1', 'Antibias Day 2', 'Antibias Day 3'])\n",
    "plt.title('Antibias Initial Choicepoint Time Distribution')  \n",
    "plt.xlabel('Time (s)')\n",
    "plt.ylabel('Number of Trials')\n",
    "plt.show() \n",
    "\n",
    "plt.figure()\n",
    "for i in antibias_idx:\n",
    "    plt.hist(summary[i].time[~np.isnan(summary[i].time)],50)\n",
    "    plt.legend(['Antibias Day 1', 'Antibias Day 2', 'Antibias Day 3'])\n",
    "plt.title('Antibias Trial Time Distribution')  \n",
    "plt.xlabel('Time (s)')\n",
    "plt.ylabel('Number of Trials')\n",
    "plt.show() \n",
    "\n",
    "\n"
   ]
  },
  {
   "cell_type": "code",
   "execution_count": null,
   "metadata": {
    "collapsed": false
   },
   "outputs": [],
   "source": [
    "for i in antibias_idx:\n",
    "    plt.hist(summary[i].choicePath[~np.isnan(summary[i].choicePath)],50)\n",
    "    plt.legend(['Antibias Day 1', 'Antibias Day 2', 'Antibias Day 3'])\n",
    "plt.title('Antibias Choicepoint Path Distribution') \n",
    "plt.xlabel('Distance (cm)')\n",
    "plt.ylabel('Number of Trials')\n",
    "plt.show()  \n",
    "\n",
    "plt.figure()\n",
    "for i in antibias_idx:\n",
    "    plt.hist(summary[i].initChoicePath[~np.isnan(summary[i].initChoicePath)],50)\n",
    "    plt.legend(['Antibias Day 1', 'Antibias Day 2', 'Antibias Day 3'])\n",
    "plt.title('Antibias Initial Choicepoint Path Length Distribution')  \n",
    "plt.xlabel('Distance (cm)')\n",
    "plt.ylabel('Number of Trials')\n",
    "plt.show() \n",
    "\n",
    "plt.figure()\n",
    "for i in antibias_idx:\n",
    "    plt.hist(summary[i].Pathlengths[~np.isnan(summary[i].Pathlengths)],50)\n",
    "    plt.legend(['Antibias Day 1', 'Antibias Day 2', 'Antibias Day 3'])\n",
    "plt.title('Antibias Path Length Distribution')  \n",
    "plt.xlabel('Distance (cm)')\n",
    "plt.ylabel('Number of Trials')\n",
    "plt.show() "
   ]
  },
  {
   "cell_type": "code",
   "execution_count": null,
   "metadata": {
    "collapsed": false
   },
   "outputs": [],
   "source": [
    "plt.figure(figsize = [20,5])\n",
    "\n",
    "initpath = []\n",
    "for i in range(len(summary)):\n",
    "    initpath = np.append(initpath,summary[i].initChoicePath)\n",
    "\n",
    "pathavgs = []\n",
    "binsize = 20\n",
    "kernel = np.ones(binsize,)/float(binsize)\n",
    "pathavgs = np.convolve(initpath,kernel, 'same')\n",
    "   \n",
    "plt.plot(initpath,'.')\n",
    "[plt.axvline(x =a, color='r') for a in len_array ]\n",
    "plt.axvspan(len_array[1],len_array[4], facecolor = 'y', alpha = 0.3)\n",
    "plt.xlabel('TrialNum')\n",
    "plt.ylabel('Path Length')\n",
    "plt.title('Initial Choicepoint Path Length-')\n",
    "plt.plot(pathavgs,'-',linewidth = 2)\n",
    "    "
   ]
  },
  {
   "cell_type": "code",
   "execution_count": null,
   "metadata": {
    "collapsed": false
   },
   "outputs": [],
   "source": [
    "antibias_idphi = []\n",
    "ab_array = []\n",
    "print type(summary[2].IdPhi.values)\n",
    "for i in antibias_idx:\n",
    "    antibias_idphi = np.append(antibias_idphi,summary[i].IdPhi.values)\n",
    "    ab_array.append(len(summary[i]))\n",
    "\n",
    "print len(antibias_idphi)\n",
    "zidphi_3days = ((antibias_idphi - np.nanmean(antibias_idphi))/float(np.nanstd(antibias_idphi)))\n",
    "print ab_array\n",
    "print \"mean = \"+str(np.nanmean(antibias_idphi))\n",
    "print \"std= \" + str(np.nanstd(antibias_idphi))\n",
    "print \"median= \" + str(np.nanmedian(antibias_idphi))\n",
    "    \n",
    "ab_array = list(np.cumsum(ab_array))\n",
    "\n",
    "plt.plot(zidphi_3days)\n",
    "plt.xlim(0,max(ab_array))\n",
    "[plt.axvline(x =a, color='r') for a in ab_array ]\n",
    "plt.axhline(y=np.nanmedian(antibias_idphi),color = 'k')\n",
    "plt.yticks([np.nanmedian(antibias_idphi)],['Median Idphi'])\n",
    "plt.title('Antibias zIdPhi')\n",
    "\n",
    "plt.figure()\n",
    "plt.plot(antibias_idphi)\n",
    "plt.xlim(0,max(ab_array))\n",
    "[plt.axvline(x =a, color='r') for a in ab_array ]\n",
    "plt.title('Antibias IdPhi')\n"
   ]
  },
  {
   "cell_type": "code",
   "execution_count": null,
   "metadata": {
    "collapsed": false
   },
   "outputs": [],
   "source": [
    "print antibias_idx[::-1]\n",
    "color = ['b','g','r']\n",
    "for i in antibias_idx:\n",
    "    plt.hist(summary[i].zIdPhi,50,color = color[i-2])\n",
    "    plt.legend(['Antibias Day 1', 'Antibias Day 2', 'Antibias Day 3'])\n",
    "plt.axvline(x=0,color = 'k')\n",
    "plt.title('Antibias zIdPhi Distribution')\n",
    "#plt.legend(['Antibias Day 1', 'Antibias Day 2', 'Antibias Day 3'])\n",
    "\n",
    "plt.figure()\n",
    "for i in antibias_idx:\n",
    "    plt.hist(summary[i].IdPhi,50,color = color[i-2])\n",
    "plt.title('Antibias IdPhi Distribution')\n",
    "plt.legend(['Antibias Day 1', 'Antibias Day 2', 'Antibias Day 3'])"
   ]
  },
  {
   "cell_type": "code",
   "execution_count": null,
   "metadata": {
    "collapsed": false
   },
   "outputs": [],
   "source": [
    "all_idphi = []\n",
    "all_zidphi = []\n",
    "for i in range(len(summary)):\n",
    "    all_idphi = np.append(all_idphi,summary[i].IdPhi.values) \n",
    "    \n",
    "all_zidphi = ((all_idphi - np.nanmean(all_idphi))/float(np.nanstd(all_idphi)))\n",
    "\n",
    "plt.figure(figsize = [20,5])\n",
    "plt.plot(all_idphi)\n",
    "[plt.axvline(x =a, color='r') for a in len_array ]\n",
    "\n",
    "plt.figure(figsize = [20,5])\n",
    "plt.plot(all_zidphi)\n",
    "[plt.axvline(x =a, color='r') for a in len_array ]\n",
    "        \n",
    "    "
   ]
  },
  {
   "cell_type": "code",
   "execution_count": null,
   "metadata": {
    "collapsed": false
   },
   "outputs": [],
   "source": [
    "#Summary vals for all of an animal's sessions\n",
    "animal_summary = {'Animal' :148,\n",
    "                  'totalDeadEnd': num_deadend, \n",
    "                  'incomplete': num_incomplete, \n",
    "                  'meanNumTrials' : mean_trials,\n",
    "                  'meanTime' : np.mean(time_array),\n",
    "                  'meanChoiceTime': np.nanmean(tchoice_array),\n",
    "                  'meanIdPhi': np.nanmean(all_idphi),\n",
    "                  'stdIdPhi' : np.nanstd(all_idphi),\n",
    "                  'meanAntibiasIdPhi' : np.nanmean(antibias_idphi),\n",
    "                  'stdAntibiasIdPhi' : np.nanstd(antibias_idphi),\n",
    "                  'meanzIdPhi' : np.nanmean(all_zidphi),\n",
    "                  'stdzIdPhi': np.nanstd(all_zidphi),\n",
    "                  'meanAntibiaszIdphi' : np.nanmean(zidphi_3days),\n",
    "                  'meanAntibiaszIdPhi' : np.nanstd(zidphi_3days),\n",
    "                  'medianIdPhi' : np.median(all_idphi),\n",
    "                  'medianzIdPhi' : np.median(all_zidphi),\n",
    "                  'numDays': len(summary),\n",
    "                  'correctBefore': mu_perc_corrUB_before,\n",
    "                  'correctAntibias': mu_perc_corrAB,\n",
    "                  'correctAfter' : mu_perc_corrUB_after}"
   ]
  },
  {
   "cell_type": "code",
   "execution_count": null,
   "metadata": {
    "collapsed": false
   },
   "outputs": [],
   "source": [
    "animal_summary = pd.Series(animal_summary)\n"
   ]
  },
  {
   "cell_type": "code",
   "execution_count": null,
   "metadata": {
    "collapsed": false
   },
   "outputs": [],
   "source": [
    "#animal_summary = pd.DataFrame.from_dict(animal_summary,orient = 'index')"
   ]
  },
  {
   "cell_type": "code",
   "execution_count": null,
   "metadata": {
    "collapsed": false
   },
   "outputs": [],
   "source": [
    "animal_summary.to_csv( path + \"/animalsummary148.csv\")"
   ]
  },
  {
   "cell_type": "code",
   "execution_count": null,
   "metadata": {
    "collapsed": false
   },
   "outputs": [],
   "source": [
    "animal_summary\n"
   ]
  },
  {
   "cell_type": "markdown",
   "metadata": {},
   "source": [
    "# Add pro-bias session analysis"
   ]
  },
  {
   "cell_type": "code",
   "execution_count": null,
   "metadata": {
    "collapsed": false
   },
   "outputs": [],
   "source": [
    "logpath = '/Users/MJAY-MAC/Desktop/GITHUB/mVR-meta/mvr_extraswitch_log.xlsx'\n",
    "extralog = pd.read_excel(logpath)\n",
    "extralog\n",
    "\n",
    "extra_sessions = extralog[(extralog.AnimalNum == 148)]\n",
    "antibiasL = extra_sessions[(extra_sessions.SessionType == 'antibiasL')]\n",
    "sessions = (pd.concat([unbiased,antibiasR,antibiasL])).sort(columns = 'SessionNum')\n",
    "session_vals= [int(x) for x in sessions.SessionNum]\n",
    "print sessions\n",
    "print session_vals"
   ]
  },
  {
   "cell_type": "code",
   "execution_count": null,
   "metadata": {
    "collapsed": false
   },
   "outputs": [],
   "source": [
    "summary_extra = [pd.read_csv(path + '/0000' + str(x) + '/summary/trial_summary' + str(x)+ '.csv') for x in session_vals[-2:]]\n",
    "\n",
    "summary_extra = [mvr.correctR(x) for x in summary_extra]\n",
    "summary+=summary_extra"
   ]
  },
  {
   "cell_type": "code",
   "execution_count": null,
   "metadata": {
    "collapsed": false
   },
   "outputs": [],
   "source": [
    "#Plot Correct Track Record acros all sessions (main behavior)\n",
    "plt.figure(figsize = [20,4])\n",
    "\n",
    "dot_array = []\n",
    "len_array = []\n",
    "for a in range(len(summary)):\n",
    "    dot_array += list(summary[a].Correct)\n",
    "    len_array.append(len(summary[a]))\n",
    "    \n",
    "len_array = list(np.cumsum(len_array))\n",
    "\n",
    "plt.plot(dot_array,'.')\n",
    "plt.ylim(-0.5,1.5)\n",
    "plt.xlim(0,max(len_array))\n",
    "[plt.axvline(x =a, color='r') for a in len_array]\n",
    "plt.axvspan(len_array[1],len_array[4], facecolor = 'y', alpha = 0.3)\n",
    "plt.axvspan(len_array[6],len_array[8], facecolor = 'g', alpha = 0.3)\n",
    "plt.xlabel('Cumulative Trial #')\n",
    "plt.yticks([0,1],['Incorrect','Correct'])\n",
    "plt.title('Multi-Session Track Record')\n",
    "\n",
    "\n",
    "avgs = []\n",
    "binsize = 15\n",
    "kernel = np.ones(binsize,)/float(binsize)\n",
    "avgs = np.convolve(dot_array,kernel, 'same')\n",
    "plt.plot(avgs) "
   ]
  },
  {
   "cell_type": "code",
   "execution_count": null,
   "metadata": {
    "collapsed": false
   },
   "outputs": [],
   "source": [
    "\n"
   ]
  },
  {
   "cell_type": "code",
   "execution_count": null,
   "metadata": {
    "collapsed": true
   },
   "outputs": [],
   "source": []
  }
 ],
 "metadata": {
  "kernelspec": {
   "display_name": "Python 2",
   "language": "python",
   "name": "python2"
  },
  "language_info": {
   "codemirror_mode": {
    "name": "ipython",
    "version": 2
   },
   "file_extension": ".py",
   "mimetype": "text/x-python",
   "name": "python",
   "nbconvert_exporter": "python",
   "pygments_lexer": "ipython2",
   "version": "2.7.12"
  }
 },
 "nbformat": 4,
 "nbformat_minor": 0
}
