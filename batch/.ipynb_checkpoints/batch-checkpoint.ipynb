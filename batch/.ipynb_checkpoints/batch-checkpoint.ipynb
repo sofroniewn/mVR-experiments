{
 "cells": [
  {
   "cell_type": "markdown",
   "metadata": {},
   "source": [
    "# Import modules"
   ]
  },
  {
   "cell_type": "code",
   "execution_count": 1,
   "metadata": {
    "collapsed": false
   },
   "outputs": [
    {
     "name": "stderr",
     "output_type": "stream",
     "text": [
      "//anaconda/lib/python2.7/site-packages/IPython/html.py:14: ShimWarning: The `IPython.html` package has been deprecated. You should import from `notebook` instead. `IPython.html.widgets` has moved to `ipywidgets`.\n",
      "  \"`IPython.html.widgets` has moved to `ipywidgets`.\", ShimWarning)\n"
     ]
    }
   ],
   "source": [
    "import mvranalysis as mvr\n",
    "import os\n",
    "import numpy as np\n",
    "import pandas as pd\n",
    "import scipy.io as sio\n",
    "from glob import glob\n",
    "import json\n",
    "import seaborn as sns\n",
    "sns.set_style('white')\n",
    "\n",
    "import matplotlib.pyplot as plt\n",
    "from matplotlib.colors import ListedColormap\n",
    "from colorsys import hsv_to_rgb, rgb_to_hsv\n",
    "%matplotlib inline"
   ]
  },
  {
   "cell_type": "code",
   "execution_count": 2,
   "metadata": {
    "collapsed": true
   },
   "outputs": [],
   "source": [
    "path148 = '/Volumes/freeman/Nick/mVR/148'\n",
    "path149 = '/Volumes/freeman/Nick/mVR/149'\n",
    "path150 = '/Volumes/freeman/Nick/mVR/150'\n",
    "path151 = '/Volumes/freeman/Nick/mVR/151'\n",
    "\n",
    "paths = [path148,path149,path150,path151]"
   ]
  },
  {
   "cell_type": "code",
   "execution_count": 3,
   "metadata": {
    "collapsed": false
   },
   "outputs": [],
   "source": [
    "sessions = [glob(path+'/trial_summary*.csv') for path in paths]\n",
    "[sessions[a].sort() for a in range(len(sessions))]\n",
    "sessions.sort()"
   ]
  },
  {
   "cell_type": "code",
   "execution_count": 6,
   "metadata": {
    "collapsed": false
   },
   "outputs": [
    {
     "name": "stdout",
     "output_type": "stream",
     "text": [
      "[[], [], [], []]\n"
     ]
    }
   ],
   "source": [
    "summaries = [glob(path + '/animalsummary*.csv') for path in paths]\n",
    "print summaries"
   ]
  },
  {
   "cell_type": "markdown",
   "metadata": {},
   "source": [
    "# Get animal stats (batch)"
   ]
  },
  {
   "cell_type": "code",
   "execution_count": 5,
   "metadata": {
    "collapsed": false
   },
   "outputs": [
    {
     "ename": "IndexError",
     "evalue": "list index out of range",
     "output_type": "error",
     "traceback": [
      "\u001b[0;31m---------------------------------------------------------------------------\u001b[0m",
      "\u001b[0;31mIndexError\u001b[0m                                Traceback (most recent call last)",
      "\u001b[0;32m<ipython-input-5-33bd21811d8c>\u001b[0m in \u001b[0;36m<module>\u001b[0;34m()\u001b[0m\n\u001b[0;32m----> 1\u001b[0;31m \u001b[0manimal_stats\u001b[0m \u001b[0;34m=\u001b[0m \u001b[0;34m[\u001b[0m\u001b[0mpd\u001b[0m\u001b[0;34m.\u001b[0m\u001b[0mSeries\u001b[0m\u001b[0;34m.\u001b[0m\u001b[0mfrom_csv\u001b[0m\u001b[0;34m(\u001b[0m\u001b[0mx\u001b[0m\u001b[0;34m[\u001b[0m\u001b[0;36m0\u001b[0m\u001b[0;34m]\u001b[0m\u001b[0;34m)\u001b[0m \u001b[0;32mfor\u001b[0m \u001b[0mx\u001b[0m \u001b[0;32min\u001b[0m \u001b[0msummaries\u001b[0m\u001b[0;34m]\u001b[0m\u001b[0;34m\u001b[0m\u001b[0m\n\u001b[0m",
      "\u001b[0;31mIndexError\u001b[0m: list index out of range"
     ]
    }
   ],
   "source": [
    "animal_stats = [pd.Series.from_csv(x[0]) for x in summaries]"
   ]
  },
  {
   "cell_type": "code",
   "execution_count": null,
   "metadata": {
    "collapsed": false
   },
   "outputs": [],
   "source": [
    "UB_before = [x.correctBefore for x in animal_stats]\n",
    "AB = [x.correctAntibias for x in animal_stats]\n",
    "UB_after = [x.correctAfter for x in animal_stats]\n",
    "\n",
    "means = np.array([UB_before, AB, UB_after])\n",
    "meansT = np.transpose(means)\n",
    "print meansT"
   ]
  },
  {
   "cell_type": "code",
   "execution_count": null,
   "metadata": {
    "collapsed": false
   },
   "outputs": [],
   "source": [
    "mean_before = np.mean(UB_before)\n",
    "mean_antibias = np.mean(AB)\n",
    "mean_after = np.mean(UB_after)\n",
    "\n",
    "perc_corr =  [mean_before, mean_antibias, mean_after]\n",
    "print perc_corr"
   ]
  },
  {
   "cell_type": "markdown",
   "metadata": {},
   "source": [
    "# Create batch bar plot (performance)"
   ]
  },
  {
   "cell_type": "code",
   "execution_count": null,
   "metadata": {
    "collapsed": false
   },
   "outputs": [],
   "source": [
    "plt.figure(figsize = [12,8])\n",
    "plt.bar(range(0,len(perc_corr)),perc_corr,align = 'center')\n",
    "labels = ['Unbiased Before', 'Antibias Training', 'Unbiased After']\n",
    "ypos = np.arange(len(perc_corr))\n",
    "plt.xticks(ypos,labels)\n",
    "plt.xlabel('Maze Type')\n",
    "plt.ylabel('Percentage Correct')\n",
    "plt.title('Overall Performance')\n",
    "\n",
    "plt.plot(ypos, meansT[0],'-',color = 'r')\n",
    "plt.plot(ypos, meansT[1], '-',color = 'g')\n",
    "plt.plot(ypos,meansT[2],'-',color = 'y')\n",
    "plt.plot(ypos,meansT[3],'-',color = 'c')\n",
    "plt.legend(['148', '149', '150','151'])\n"
   ]
  },
  {
   "cell_type": "markdown",
   "metadata": {},
   "source": [
    "# Compile Rolling averages"
   ]
  },
  {
   "cell_type": "code",
   "execution_count": null,
   "metadata": {
    "collapsed": false
   },
   "outputs": [],
   "source": [
    "mainpath = '/Volumes/freeman/Nick/mVR/sessions'\n",
    "\n",
    "averages = glob(mainpath+'/rollingavg*.csv')\n",
    "averages.sort()\n",
    "averages = [pd.Series.from_csv(x) for x in averages]\n",
    "\n",
    "#print len(averages[0]),len(averages[1]),len(averages[2]),len(averages[3])\n",
    "plt.plot(averages[0])\n",
    "plt.ylim(-0.5,1.5)\n",
    "plt.xlim(0,80)\n",
    "plt.plot(averages[1])\n",
    "plt.plot(averages[2])\n",
    "plt.plot(averages[3])\n",
    "plt.xlabel('Number of Trials',fontsize = 14)\n",
    "plt.yticks([0,1], ['Incorrect','Correct'],fontsize = 14)\n",
    "plt.title('Maze Transition Performance', fontsize = 14)\n",
    "plt.axvline(x=40,c = 'k')\n",
    "plt.axvspan(40,80, facecolor = 'y', alpha = 0.3)\n",
    "\n",
    "avgT = np.transpose(averages)\n",
    "\n",
    "totalavg = [np.mean(i) for i in avgT]\n",
    "\n",
    "plt.plot(totalavg, linewidth = 2.0, color = 'k')\n",
    "\n",
    "\n",
    "plt.legend(['148', '149','150','151', 'Average'], loc = 'best')"
   ]
  },
  {
   "cell_type": "code",
   "execution_count": null,
   "metadata": {
    "collapsed": true
   },
   "outputs": [],
   "source": []
  }
 ],
 "metadata": {
  "kernelspec": {
   "display_name": "Python 2",
   "language": "python",
   "name": "python2"
  },
  "language_info": {
   "codemirror_mode": {
    "name": "ipython",
    "version": 2
   },
   "file_extension": ".py",
   "mimetype": "text/x-python",
   "name": "python",
   "nbconvert_exporter": "python",
   "pygments_lexer": "ipython2",
   "version": "2.7.12"
  }
 },
 "nbformat": 4,
 "nbformat_minor": 0
}
